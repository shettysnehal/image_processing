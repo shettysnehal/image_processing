{
 "cells": [
  {
   "cell_type": "markdown",
   "metadata": {},
   "source": [
    "READ THE IMAGE\n"
   ]
  },
  {
   "cell_type": "code",
   "execution_count": null,
   "metadata": {},
   "outputs": [],
   "source": [
    "import cv2\n",
    "import matplotlib.pyplot as plt\n",
    "img = cv2.imread('')\n",
    "\n",
    "\n",
    "##using open-cv\n",
    "cv2.imshow(img)\n",
    "cv2.waitKey(0)\n",
    "cv2.destroyAllWindows()\n",
    "\n",
    "\n",
    "#using matplotlib\n",
    "\n",
    "plt.imshow(img)\n",
    "plt.axis('off')\n",
    "plt.show()\n"
   ]
  },
  {
   "cell_type": "markdown",
   "metadata": {},
   "source": []
  },
  {
   "cell_type": "markdown",
   "metadata": {},
   "source": [
    "GRAYSCALE CONVERSION"
   ]
  },
  {
   "cell_type": "code",
   "execution_count": null,
   "metadata": {},
   "outputs": [],
   "source": [
    "gray = cv2.cvtColor(img, cv2.COLOR_BGR2GRAY)\n",
    "plt.imshow(gray)\n",
    "plt.axis('off')  \n",
    "plt.show()\n"
   ]
  },
  {
   "cell_type": "markdown",
   "metadata": {},
   "source": [
    "RESIZING"
   ]
  },
  {
   "cell_type": "code",
   "execution_count": null,
   "metadata": {},
   "outputs": [],
   "source": [
    "resized = cv2.resize(img, (width, height))\n"
   ]
  },
  {
   "cell_type": "markdown",
   "metadata": {},
   "source": [
    "cropping"
   ]
  },
  {
   "cell_type": "code",
   "execution_count": null,
   "metadata": {},
   "outputs": [],
   "source": [
    "cropped = img[y1:y2, x1:x2]\n"
   ]
  },
  {
   "cell_type": "markdown",
   "metadata": {},
   "source": [
    "GAUSSIAN BLUR"
   ]
  },
  {
   "cell_type": "code",
   "execution_count": null,
   "metadata": {},
   "outputs": [],
   "source": [
    "blurred = cv2.GaussianBlur(gray, (5, 5), 0)\n",
    "plt.imshow(gray)\n",
    "plt.axis('off')  # Hide axes\n",
    "plt.show()\n"
   ]
  },
  {
   "cell_type": "markdown",
   "metadata": {},
   "source": [
    "MEDIAN BLUR"
   ]
  },
  {
   "cell_type": "code",
   "execution_count": null,
   "metadata": {},
   "outputs": [],
   "source": [
    "median_blurred = cv2.medianBlur(blurred, 5)\n",
    "plt.imshow(gray)\n",
    "plt.axis('off')  # Hide axes\n",
    "plt.show()\n"
   ]
  },
  {
   "cell_type": "markdown",
   "metadata": {},
   "source": [
    "EDGE DETECTION"
   ]
  },
  {
   "cell_type": "code",
   "execution_count": null,
   "metadata": {},
   "outputs": [],
   "source": [
    "edges = cv2.Canny(median_blurred, 100, 200)\n",
    "plt.imshow(gray)\n",
    "plt.axis('off')  # Hide axes\n",
    "plt.show()\n"
   ]
  },
  {
   "cell_type": "markdown",
   "metadata": {},
   "source": []
  },
  {
   "cell_type": "markdown",
   "metadata": {},
   "source": [
    "GLOBAL THRESHOLDING"
   ]
  },
  {
   "cell_type": "code",
   "execution_count": null,
   "metadata": {},
   "outputs": [],
   "source": [
    "_, binary = cv2.threshold(gray, 127, 255, cv2.THRESH_BINARY)\n",
    "\n"
   ]
  },
  {
   "cell_type": "markdown",
   "metadata": {},
   "source": [
    "ADAPTIVE THERSHOLDING"
   ]
  },
  {
   "cell_type": "code",
   "execution_count": null,
   "metadata": {},
   "outputs": [],
   "source": [
    "adaptive = cv2.adaptiveThreshold(gray, 255, cv2.ADAPTIVE_THRESH_GAUSSIAN_C, cv2.THRESH_BINARY, 11, 2)\n",
    "plt.imshow(gray)\n",
    "plt.axis('off')  # Hide axes\n",
    "plt.show()\n",
    "\n"
   ]
  },
  {
   "cell_type": "markdown",
   "metadata": {},
   "source": []
  },
  {
   "cell_type": "markdown",
   "metadata": {},
   "source": [
    "EROSION AND DILATION"
   ]
  },
  {
   "cell_type": "code",
   "execution_count": null,
   "metadata": {},
   "outputs": [],
   "source": [
    "eroded = cv2.erode(binary, kernel, iterations=1)\n",
    "dilated = cv2.dilate(binary, kernel, iterations=1)\n",
    "opened = cv2.morphologyEx(binary, cv2.MORPH_OPEN, kernel)\n",
    "closed = cv2.morphologyEx(binary, cv2.MORPH_CLOSE, kernel)\n",
    "\n"
   ]
  },
  {
   "cell_type": "markdown",
   "metadata": {},
   "source": [
    "HISTOGRAM EQUALIZATION"
   ]
  },
  {
   "cell_type": "code",
   "execution_count": null,
   "metadata": {},
   "outputs": [],
   "source": [
    "equalized = cv2.equalizeHist(gray)\n",
    "plt.imshow(gray)\n",
    "plt.axis('off')  # Hide axes\n",
    "plt.show()\n"
   ]
  },
  {
   "cell_type": "markdown",
   "metadata": {},
   "source": [
    "COLOR SPACE CONVERSION"
   ]
  },
  {
   "cell_type": "code",
   "execution_count": null,
   "metadata": {},
   "outputs": [],
   "source": [
    "hsv = cv2.cvtColor(img, cv2.COLOR_BGR2HSV)\n",
    "plt.imshow(gray)\n",
    "plt.axis('off')  # Hide axes\n",
    "plt.show()\n"
   ]
  },
  {
   "cell_type": "markdown",
   "metadata": {},
   "source": [
    "PILLOW"
   ]
  },
  {
   "cell_type": "code",
   "execution_count": null,
   "metadata": {},
   "outputs": [],
   "source": [
    "from PIL import Image, ImageEnhance, ImageFilter, ImageOps\n",
    "\n",
    "# Step 1: Open an existing image\n",
    "image_path = 'your_image.png'  # Replace with the path to your image\n",
    "image = Image.open(image_path)\n",
    "\n",
    "# Step 2: Display the original image (optional)\n",
    "image.show(title='Original Image')\n",
    "\n",
    "# A. Brightness Enhancement\n",
    "brightness_enhancer = ImageEnhance.Brightness(image)\n",
    "image_bright = brightness_enhancer.enhance(1.5)  # Increase brightness (try values >1 for more brightness)\n",
    "image_bright.show(title='Brightness Enhanced Image')\n",
    "\n",
    "# B. Contrast Enhancement\n",
    "contrast_enhancer = ImageEnhance.Contrast(image)\n",
    "image_contrast = contrast_enhancer.enhance(2)  # Increase contrast (try values >1 for more contrast)\n",
    "image_contrast.show(title='Contrast Enhanced Image')\n",
    "\n",
    "# C. Sharpness Enhancement\n",
    "sharpness_enhancer = ImageEnhance.Sharpness(image)\n",
    "image_sharp = sharpness_enhancer.enhance(2)  # Sharpen image (try values >1 for more sharpness)\n",
    "image_sharp.show(title='Sharpness Enhanced Image')\n",
    "\n",
    "# D. Color Enhancement\n",
    "color_enhancer = ImageEnhance.Color(image)\n",
    "image_colored = color_enhancer.enhance(2)  # Enhance the color (try values >1 for more vivid colors)\n",
    "image_colored.show(title='Color Enhanced Image')\n",
    "\n",
    "# E. Edge Enhancement (using ImageFilter)\n",
    "image_edges = image.filter(ImageFilter.EDGE_ENHANCE)\n",
    "image_edges.show(title='Edge Enhanced Image')\n",
    "\n",
    "\n",
    "# G. Grayscale Conversion (B/W Image)\n",
    "image_gray = image.convert(\"L\")  # Convert image to grayscale (L mode)\n",
    "image_gray.show(title='Grayscale Image')\n",
    "\n",
    "# H. Thresholding (Binarization)\n",
    "threshold = 128  # Set threshold (0-255)\n",
    "image_threshold = image_gray.point(lambda p: p > threshold and 255)  # Apply thresholding\n",
    "image_threshold.show(title='Thresholded Image')\n"
   ]
  }
 ],
 "metadata": {
  "kernelspec": {
   "display_name": "Python 3",
   "language": "python",
   "name": "python3"
  },
  "language_info": {
   "codemirror_mode": {
    "name": "ipython",
    "version": 3
   },
   "file_extension": ".py",
   "mimetype": "text/x-python",
   "name": "python",
   "nbconvert_exporter": "python",
   "pygments_lexer": "ipython3",
   "version": "3.11.4"
  }
 },
 "nbformat": 4,
 "nbformat_minor": 2
}
